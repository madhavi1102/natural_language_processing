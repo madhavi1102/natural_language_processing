{
 "cells": [
  {
   "cell_type": "markdown",
   "id": "269fe5ad",
   "metadata": {},
   "source": [
    "# Collocations\n",
    "\n",
    "Collocations are the phrases of two or more words which highly co-occur.\n",
    "They are meaningful bigrams and trigrams or ngrams. \n",
    "For example: He applied for Machine learning. 'Machine learning' is a collocation.\n",
    "\n",
    "### How are Collocations different from regular BiGrams or TriGrams?\n",
    "Some combination of two or more words which co-occur more oftenly  but does not have meaning together.\n",
    "Bigrams or Trigrams can be a set of any two or more words ,but not neccessarily collocations. \n",
    "For example ‘good film’, ‘bad man’ these can be taken as bigrams but not collocations. \n",
    "Collocations are words which make meaning when appeared always together irrespective of frequency of occurring in the whole corpus. Such as Las Vegas, United States, Union Territory, New York, so on….\n",
    "\n",
    "\n"
   ]
  },
  {
   "cell_type": "code",
   "execution_count": 46,
   "id": "4e9e0b82",
   "metadata": {},
   "outputs": [],
   "source": [
    "#load all libraries\n",
    "import pandas as pd\n",
    "import re\n",
    "import nltk\n",
    "from nltk.corpus import stopwords \n",
    "import spacy"
   ]
  },
  {
   "cell_type": "code",
   "execution_count": 33,
   "id": "083a2636",
   "metadata": {},
   "outputs": [
    {
     "name": "stderr",
     "output_type": "stream",
     "text": [
      "[nltk_data] Downloading package averaged_perceptron_tagger to\n",
      "[nltk_data]     C:\\Users\\Madhavi\\AppData\\Roaming\\nltk_data...\n",
      "[nltk_data]   Unzipping taggers\\averaged_perceptron_tagger.zip.\n"
     ]
    },
    {
     "data": {
      "text/plain": [
       "True"
      ]
     },
     "execution_count": 33,
     "metadata": {},
     "output_type": "execute_result"
    }
   ],
   "source": [
    "nltk.download('averaged_perceptron_tagger')"
   ]
  },
  {
   "cell_type": "code",
   "execution_count": 5,
   "id": "1cd81c4a",
   "metadata": {},
   "outputs": [],
   "source": [
    "#text data sample\n",
    "\n",
    "documents=['A series of escapades demonstrating the adage that what is good for the goose is also good for the gander , some of which occasionally amuses but none of which amounts to much of a story ',\n",
    "     'This quiet , introspective and entertaining independent is worth seeking ', 'Even fans of Ismail Merchants work , I suspect , would have a hard time sitting through this one .']"
   ]
  },
  {
   "cell_type": "markdown",
   "id": "aeaf73a0",
   "metadata": {},
   "source": [
    "## Preprocessing"
   ]
  },
  {
   "cell_type": "code",
   "execution_count": 20,
   "id": "9f08ee98",
   "metadata": {},
   "outputs": [],
   "source": [
    "nlp=spacy.load(\"en_core_web_sm\")\n",
    "\n",
    "def clean_comments(text):\n",
    "    #remove punctuations\n",
    "    regex = re.compile(r'[^a-zA-Z0-9\\s]+')\n",
    "    nopunct = regex.sub(\"\", str(text))\n",
    "    nopunct=re.sub(r'[\\s]+',' ' ,nopunct)\n",
    "    #use spacy to lemmatize comments\n",
    "    text=str(nopunct).strip()\n",
    "    doc = nlp(text, disable=['parser','ner'])\n",
    "    lemma = [token.lemma_ for token in doc]\n",
    "    return lemma"
   ]
  },
  {
   "cell_type": "code",
   "execution_count": 21,
   "id": "6635d25c",
   "metadata": {},
   "outputs": [
    {
     "name": "stdout",
     "output_type": "stream",
     "text": [
      "[['a', 'series', 'of', 'escapade', 'demonstrate', 'the', 'adage', 'that', 'what', 'be', 'good', 'for', 'the', 'goose', 'be', 'also', 'good', 'for', 'the', 'gander', 'some', 'of', 'which', 'occasionally', 'amuse', 'but', 'none', 'of', 'which', 'amount', 'to', 'much', 'of', 'a', 'story'], ['this', 'quiet', 'introspective', 'and', 'entertaining', 'independent', 'be', 'worth', 'seek'], ['even', 'fan', 'of', 'Ismail', 'Merchants', 'work', 'I', 'suspect', 'would', 'have', 'a', 'hard', 'time', 'sit', 'through', 'this', 'one']]\n"
     ]
    }
   ],
   "source": [
    "clean_text=[]\n",
    "\n",
    "for text in documents:\n",
    "    clean_text.append(clean_comments(text))\n",
    "    \n",
    "print(clean_text)"
   ]
  },
  {
   "cell_type": "code",
   "execution_count": 25,
   "id": "65d8cef7",
   "metadata": {},
   "outputs": [],
   "source": [
    "#Flattening of list of lists of tokens into single list\n",
    "comment_tokens=[token for tokens in clean_text for token in tokens]"
   ]
  },
  {
   "cell_type": "code",
   "execution_count": 26,
   "id": "7273596e",
   "metadata": {},
   "outputs": [
    {
     "name": "stdout",
     "output_type": "stream",
     "text": [
      "['a', 'series', 'of', 'escapade', 'demonstrate', 'the', 'adage', 'that', 'what', 'be', 'good', 'for', 'the', 'goose', 'be', 'also', 'good', 'for', 'the', 'gander', 'some', 'of', 'which', 'occasionally', 'amuse', 'but', 'none', 'of', 'which', 'amount', 'to', 'much', 'of', 'a', 'story', 'this', 'quiet', 'introspective', 'and', 'entertaining', 'independent', 'be', 'worth', 'seek', 'even', 'fan', 'of', 'Ismail', 'Merchants', 'work', 'I', 'suspect', 'would', 'have', 'a', 'hard', 'time', 'sit', 'through', 'this', 'one']\n"
     ]
    }
   ],
   "source": [
    "print(comment_tokens)"
   ]
  },
  {
   "cell_type": "markdown",
   "id": "258ab550",
   "metadata": {},
   "source": [
    "### Initialize NLTK's Bigrams/Trigrams Finder\n",
    "\n",
    "Some collocation measures to filter out bigrams and trigrams:\n",
    "1. Frequency counting, \n",
    "2. Pointwise Mutual Information (PMI)\n",
    "3. hypothesis testing (t-test and chi-square)"
   ]
  },
  {
   "cell_type": "code",
   "execution_count": 24,
   "id": "c7b44ff6",
   "metadata": {},
   "outputs": [],
   "source": [
    "bigrams = nltk.collocations.BigramAssocMeasures()\n",
    "trigrams = nltk.collocations.TrigramAssocMeasures()"
   ]
  },
  {
   "cell_type": "code",
   "execution_count": 28,
   "id": "5bcd6b33",
   "metadata": {},
   "outputs": [],
   "source": [
    "bigramFinder = nltk.collocations.BigramCollocationFinder.from_words(comment_tokens)\n",
    "trigramFinder = nltk.collocations.TrigramCollocationFinder.from_words(comment_tokens)"
   ]
  },
  {
   "cell_type": "markdown",
   "id": "d3a9e1ab",
   "metadata": {},
   "source": [
    "###  Frequency Counting as scoring metric\n",
    "\n",
    "1.The simplest method is to rank bigrams or trigrams based upon it's count of occurrence.\n",
    "\n",
    "2.Too sensitive to very frequent pairs and pronouns/articles/prepositions come up often.\n",
    "Solution: filter for only adjectives and nouns\n",
    "\n",
    "To fix this, we filter out for collocations not containing stop words and filter for only the following structures:\n",
    "- Bigrams: (Noun, Noun), (Adjective, Noun)\n",
    "- Trigrams: (Adjective/Noun, Anything, Adjective/Noun)"
   ]
  },
  {
   "cell_type": "code",
   "execution_count": 29,
   "id": "e729baa7",
   "metadata": {},
   "outputs": [
    {
     "data": {
      "text/html": [
       "<div>\n",
       "<style scoped>\n",
       "    .dataframe tbody tr th:only-of-type {\n",
       "        vertical-align: middle;\n",
       "    }\n",
       "\n",
       "    .dataframe tbody tr th {\n",
       "        vertical-align: top;\n",
       "    }\n",
       "\n",
       "    .dataframe thead th {\n",
       "        text-align: right;\n",
       "    }\n",
       "</style>\n",
       "<table border=\"1\" class=\"dataframe\">\n",
       "  <thead>\n",
       "    <tr style=\"text-align: right;\">\n",
       "      <th></th>\n",
       "      <th>bigram</th>\n",
       "      <th>freq</th>\n",
       "    </tr>\n",
       "  </thead>\n",
       "  <tbody>\n",
       "    <tr>\n",
       "      <th>0</th>\n",
       "      <td>(good, for)</td>\n",
       "      <td>2</td>\n",
       "    </tr>\n",
       "    <tr>\n",
       "      <th>1</th>\n",
       "      <td>(for, the)</td>\n",
       "      <td>2</td>\n",
       "    </tr>\n",
       "    <tr>\n",
       "      <th>2</th>\n",
       "      <td>(of, which)</td>\n",
       "      <td>2</td>\n",
       "    </tr>\n",
       "    <tr>\n",
       "      <th>3</th>\n",
       "      <td>(a, series)</td>\n",
       "      <td>1</td>\n",
       "    </tr>\n",
       "    <tr>\n",
       "      <th>4</th>\n",
       "      <td>(of, Ismail)</td>\n",
       "      <td>1</td>\n",
       "    </tr>\n",
       "  </tbody>\n",
       "</table>\n",
       "</div>"
      ],
      "text/plain": [
       "         bigram  freq\n",
       "0   (good, for)     2\n",
       "1    (for, the)     2\n",
       "2   (of, which)     2\n",
       "3   (a, series)     1\n",
       "4  (of, Ismail)     1"
      ]
     },
     "execution_count": 29,
     "metadata": {},
     "output_type": "execute_result"
    }
   ],
   "source": [
    "# bigram\n",
    "bigram_freq = bigramFinder.ngram_fd.items()\n",
    "bigramFreqTable = pd.DataFrame(list(bigram_freq), columns=['bigram','freq']).sort_values(by='freq', ascending=False)\n",
    "\n",
    "bigramFreqTable.head().reset_index(drop=True)"
   ]
  },
  {
   "cell_type": "code",
   "execution_count": 30,
   "id": "6feb68b5",
   "metadata": {},
   "outputs": [],
   "source": [
    "# english stopwords\n",
    "en_stopwords = set(stopwords.words('english'))"
   ]
  },
  {
   "cell_type": "code",
   "execution_count": 31,
   "id": "12aaa627",
   "metadata": {},
   "outputs": [],
   "source": [
    "#function to filter for ADJ/NN bigrams\n",
    "def rightTypes(ngram):\n",
    "    if '-pron-' in ngram or '' in ngram or ' 'in ngram or 't' in ngram:\n",
    "        return False\n",
    "    for word in ngram:\n",
    "        if word in en_stopwords:\n",
    "            return False\n",
    "    acceptable_types = ('JJ', 'JJR', 'JJS', 'NN', 'NNS', 'NNP', 'NNPS')\n",
    "    second_type = ('NN', 'NNS', 'NNP', 'NNPS')\n",
    "    tags = nltk.pos_tag(ngram)\n",
    "    if tags[0][1] in acceptable_types and tags[1][1] in second_type:\n",
    "        return True\n",
    "    else:\n",
    "        return False\n"
   ]
  },
  {
   "cell_type": "code",
   "execution_count": 34,
   "id": "912bb74f",
   "metadata": {},
   "outputs": [],
   "source": [
    "#filter bigrams\n",
    "filtered_bi = bigramFreqTable[bigramFreqTable.bigram.map(lambda x: rightTypes(x))]"
   ]
  },
  {
   "cell_type": "code",
   "execution_count": 35,
   "id": "a08b7f2e",
   "metadata": {},
   "outputs": [
    {
     "data": {
      "text/html": [
       "<div>\n",
       "<style scoped>\n",
       "    .dataframe tbody tr th:only-of-type {\n",
       "        vertical-align: middle;\n",
       "    }\n",
       "\n",
       "    .dataframe tbody tr th {\n",
       "        vertical-align: top;\n",
       "    }\n",
       "\n",
       "    .dataframe thead th {\n",
       "        text-align: right;\n",
       "    }\n",
       "</style>\n",
       "<table border=\"1\" class=\"dataframe\">\n",
       "  <thead>\n",
       "    <tr style=\"text-align: right;\">\n",
       "      <th></th>\n",
       "      <th>bigram</th>\n",
       "      <th>freq</th>\n",
       "    </tr>\n",
       "  </thead>\n",
       "  <tbody>\n",
       "    <tr>\n",
       "      <th>33</th>\n",
       "      <td>(quiet, introspective)</td>\n",
       "      <td>1</td>\n",
       "    </tr>\n",
       "    <tr>\n",
       "      <th>39</th>\n",
       "      <td>(worth, seek)</td>\n",
       "      <td>1</td>\n",
       "    </tr>\n",
       "    <tr>\n",
       "      <th>44</th>\n",
       "      <td>(Ismail, Merchants)</td>\n",
       "      <td>1</td>\n",
       "    </tr>\n",
       "    <tr>\n",
       "      <th>52</th>\n",
       "      <td>(hard, time)</td>\n",
       "      <td>1</td>\n",
       "    </tr>\n",
       "    <tr>\n",
       "      <th>53</th>\n",
       "      <td>(time, sit)</td>\n",
       "      <td>1</td>\n",
       "    </tr>\n",
       "    <tr>\n",
       "      <th>3</th>\n",
       "      <td>(escapade, demonstrate)</td>\n",
       "      <td>1</td>\n",
       "    </tr>\n",
       "  </tbody>\n",
       "</table>\n",
       "</div>"
      ],
      "text/plain": [
       "                     bigram  freq\n",
       "33   (quiet, introspective)     1\n",
       "39            (worth, seek)     1\n",
       "44      (Ismail, Merchants)     1\n",
       "52             (hard, time)     1\n",
       "53              (time, sit)     1\n",
       "3   (escapade, demonstrate)     1"
      ]
     },
     "execution_count": 35,
     "metadata": {},
     "output_type": "execute_result"
    }
   ],
   "source": [
    "filtered_bi[:10]"
   ]
  },
  {
   "cell_type": "code",
   "execution_count": 36,
   "id": "114b1cf0",
   "metadata": {},
   "outputs": [
    {
     "data": {
      "text/html": [
       "<div>\n",
       "<style scoped>\n",
       "    .dataframe tbody tr th:only-of-type {\n",
       "        vertical-align: middle;\n",
       "    }\n",
       "\n",
       "    .dataframe tbody tr th {\n",
       "        vertical-align: top;\n",
       "    }\n",
       "\n",
       "    .dataframe thead th {\n",
       "        text-align: right;\n",
       "    }\n",
       "</style>\n",
       "<table border=\"1\" class=\"dataframe\">\n",
       "  <thead>\n",
       "    <tr style=\"text-align: right;\">\n",
       "      <th></th>\n",
       "      <th>trigram</th>\n",
       "      <th>freq</th>\n",
       "    </tr>\n",
       "  </thead>\n",
       "  <tbody>\n",
       "    <tr>\n",
       "      <th>0</th>\n",
       "      <td>(good, for, the)</td>\n",
       "      <td>2</td>\n",
       "    </tr>\n",
       "    <tr>\n",
       "      <th>1</th>\n",
       "      <td>(a, series, of)</td>\n",
       "      <td>1</td>\n",
       "    </tr>\n",
       "    <tr>\n",
       "      <th>2</th>\n",
       "      <td>(fan, of, Ismail)</td>\n",
       "      <td>1</td>\n",
       "    </tr>\n",
       "    <tr>\n",
       "      <th>3</th>\n",
       "      <td>(a, story, this)</td>\n",
       "      <td>1</td>\n",
       "    </tr>\n",
       "    <tr>\n",
       "      <th>4</th>\n",
       "      <td>(story, this, quiet)</td>\n",
       "      <td>1</td>\n",
       "    </tr>\n",
       "  </tbody>\n",
       "</table>\n",
       "</div>"
      ],
      "text/plain": [
       "                trigram  freq\n",
       "0      (good, for, the)     2\n",
       "1       (a, series, of)     1\n",
       "2     (fan, of, Ismail)     1\n",
       "3      (a, story, this)     1\n",
       "4  (story, this, quiet)     1"
      ]
     },
     "execution_count": 36,
     "metadata": {},
     "output_type": "execute_result"
    }
   ],
   "source": [
    "#Trigram\n",
    "trigram_freq = trigramFinder.ngram_fd.items()\n",
    "trigramFreqTable = pd.DataFrame(list(trigram_freq), columns=['trigram','freq']).sort_values(by='freq', ascending=False)\n",
    "trigramFreqTable.head().reset_index(drop=True)"
   ]
  },
  {
   "cell_type": "code",
   "execution_count": 37,
   "id": "d136b2b6",
   "metadata": {},
   "outputs": [],
   "source": [
    "#function to filter trigrams\n",
    "def rightTypesTri(ngram):\n",
    "    if '-pron-' in ngram or '' in ngram or ' 'in ngram or '  ' in ngram or 't' in ngram:\n",
    "        return False\n",
    "    for word in ngram:\n",
    "        if word in en_stopwords:\n",
    "            return False\n",
    "    first_type = ('JJ', 'JJR', 'JJS', 'NN', 'NNS', 'NNP', 'NNPS')\n",
    "    third_type = ('JJ', 'JJR', 'JJS', 'NN', 'NNS', 'NNP', 'NNPS')\n",
    "    tags = nltk.pos_tag(ngram)\n",
    "    if tags[0][1] in first_type and tags[2][1] in third_type:\n",
    "        return True\n",
    "    else:\n",
    "        return False"
   ]
  },
  {
   "cell_type": "code",
   "execution_count": 38,
   "id": "4fecf299",
   "metadata": {},
   "outputs": [],
   "source": [
    "filtered_tri = trigramFreqTable[trigramFreqTable.trigram.map(lambda x: rightTypesTri(x))]"
   ]
  },
  {
   "cell_type": "code",
   "execution_count": 39,
   "id": "7c3d50de",
   "metadata": {},
   "outputs": [
    {
     "data": {
      "text/html": [
       "<div>\n",
       "<style scoped>\n",
       "    .dataframe tbody tr th:only-of-type {\n",
       "        vertical-align: middle;\n",
       "    }\n",
       "\n",
       "    .dataframe tbody tr th {\n",
       "        vertical-align: top;\n",
       "    }\n",
       "\n",
       "    .dataframe thead th {\n",
       "        text-align: right;\n",
       "    }\n",
       "</style>\n",
       "<table border=\"1\" class=\"dataframe\">\n",
       "  <thead>\n",
       "    <tr style=\"text-align: right;\">\n",
       "      <th></th>\n",
       "      <th>trigram</th>\n",
       "      <th>freq</th>\n",
       "    </tr>\n",
       "  </thead>\n",
       "  <tbody>\n",
       "    <tr>\n",
       "      <th>46</th>\n",
       "      <td>(Ismail, Merchants, work)</td>\n",
       "      <td>1</td>\n",
       "    </tr>\n",
       "    <tr>\n",
       "      <th>54</th>\n",
       "      <td>(hard, time, sit)</td>\n",
       "      <td>1</td>\n",
       "    </tr>\n",
       "  </tbody>\n",
       "</table>\n",
       "</div>"
      ],
      "text/plain": [
       "                      trigram  freq\n",
       "46  (Ismail, Merchants, work)     1\n",
       "54          (hard, time, sit)     1"
      ]
     },
     "execution_count": 39,
     "metadata": {},
     "output_type": "execute_result"
    }
   ],
   "source": [
    "filtered_tri[:10]"
   ]
  },
  {
   "cell_type": "markdown",
   "id": "9f8878bf",
   "metadata": {},
   "source": [
    " ##  Pointwise Mutual Information (pmi) as scoring metric\n",
    " \n",
    "It measures the occurrence of co-ocurred words against the occurrence of the words independently. However, it is very sensitive to rare combination of words. For example, if a random bigram ‘abc xyz’ appears, and neither ‘abc’ nor ‘xyz’ appeared anywhere else in the text, ‘abc xyz’ will be identified as highly significant bigram when it could just be a random misspelling or a phrase too rare to generalize as a bigram. Therefore, this method is often used with a frequency filter."
   ]
  },
  {
   "cell_type": "code",
   "execution_count": 42,
   "id": "d69bb507",
   "metadata": {},
   "outputs": [],
   "source": [
    "#bigram\n",
    "#filter for only those with more than 2 occurences\n",
    "bigramFinder.apply_freq_filter(2)\n",
    "bigramPMITable = pd.DataFrame(list(bigramFinder.score_ngrams(bigrams.pmi)), columns=['bigram','PMI']).sort_values(by='PMI', ascending=False)"
   ]
  },
  {
   "cell_type": "code",
   "execution_count": 44,
   "id": "426d6bf7",
   "metadata": {},
   "outputs": [
    {
     "data": {
      "text/html": [
       "<div>\n",
       "<style scoped>\n",
       "    .dataframe tbody tr th:only-of-type {\n",
       "        vertical-align: middle;\n",
       "    }\n",
       "\n",
       "    .dataframe tbody tr th {\n",
       "        vertical-align: top;\n",
       "    }\n",
       "\n",
       "    .dataframe thead th {\n",
       "        text-align: right;\n",
       "    }\n",
       "</style>\n",
       "<table border=\"1\" class=\"dataframe\">\n",
       "  <thead>\n",
       "    <tr style=\"text-align: right;\">\n",
       "      <th></th>\n",
       "      <th>bigram</th>\n",
       "      <th>PMI</th>\n",
       "    </tr>\n",
       "  </thead>\n",
       "  <tbody>\n",
       "    <tr>\n",
       "      <th>0</th>\n",
       "      <td>(good, for)</td>\n",
       "      <td>4.930737</td>\n",
       "    </tr>\n",
       "    <tr>\n",
       "      <th>1</th>\n",
       "      <td>(for, the)</td>\n",
       "      <td>4.345775</td>\n",
       "    </tr>\n",
       "    <tr>\n",
       "      <th>2</th>\n",
       "      <td>(of, which)</td>\n",
       "      <td>3.608809</td>\n",
       "    </tr>\n",
       "  </tbody>\n",
       "</table>\n",
       "</div>"
      ],
      "text/plain": [
       "        bigram       PMI\n",
       "0  (good, for)  4.930737\n",
       "1   (for, the)  4.345775\n",
       "2  (of, which)  3.608809"
      ]
     },
     "execution_count": 44,
     "metadata": {},
     "output_type": "execute_result"
    }
   ],
   "source": [
    "bigramPMITable[:4]"
   ]
  },
  {
   "cell_type": "code",
   "execution_count": 43,
   "id": "4fcc1468",
   "metadata": {},
   "outputs": [],
   "source": [
    "#trigram\n",
    "trigramFinder.apply_freq_filter(2)\n",
    "trigramPMITable = pd.DataFrame(list(trigramFinder.score_ngrams(trigrams.pmi)), columns=['trigram','PMI']).sort_values(by='PMI', ascending=False)"
   ]
  },
  {
   "cell_type": "code",
   "execution_count": 45,
   "id": "482eb3f3",
   "metadata": {},
   "outputs": [
    {
     "data": {
      "text/html": [
       "<div>\n",
       "<style scoped>\n",
       "    .dataframe tbody tr th:only-of-type {\n",
       "        vertical-align: middle;\n",
       "    }\n",
       "\n",
       "    .dataframe tbody tr th {\n",
       "        vertical-align: top;\n",
       "    }\n",
       "\n",
       "    .dataframe thead th {\n",
       "        text-align: right;\n",
       "    }\n",
       "</style>\n",
       "<table border=\"1\" class=\"dataframe\">\n",
       "  <thead>\n",
       "    <tr style=\"text-align: right;\">\n",
       "      <th></th>\n",
       "      <th>trigram</th>\n",
       "      <th>PMI</th>\n",
       "    </tr>\n",
       "  </thead>\n",
       "  <tbody>\n",
       "    <tr>\n",
       "      <th>0</th>\n",
       "      <td>(good, for, the)</td>\n",
       "      <td>9.276512</td>\n",
       "    </tr>\n",
       "  </tbody>\n",
       "</table>\n",
       "</div>"
      ],
      "text/plain": [
       "            trigram       PMI\n",
       "0  (good, for, the)  9.276512"
      ]
     },
     "execution_count": 45,
     "metadata": {},
     "output_type": "execute_result"
    }
   ],
   "source": [
    "trigramPMITable[:4]"
   ]
  },
  {
   "cell_type": "markdown",
   "id": "80288025",
   "metadata": {},
   "source": [
    "Reference:\n",
    "\n",
    "https://github.com/nicharuc/Collocations/blob/master/Collocations.ipynb\n",
    "\n",
    "https://www.nltk.org/howto/collocations.html\n",
    "\n",
    "https://medium.com/@nicharuch/collocations-identifying-phrases-that-act-like-individual-words-in-nlp-f58a93a2f84a\n"
   ]
  }
 ],
 "metadata": {
  "kernelspec": {
   "display_name": "Python 3",
   "language": "python",
   "name": "python3"
  },
  "language_info": {
   "codemirror_mode": {
    "name": "ipython",
    "version": 3
   },
   "file_extension": ".py",
   "mimetype": "text/x-python",
   "name": "python",
   "nbconvert_exporter": "python",
   "pygments_lexer": "ipython3",
   "version": "3.8.8"
  }
 },
 "nbformat": 4,
 "nbformat_minor": 5
}
