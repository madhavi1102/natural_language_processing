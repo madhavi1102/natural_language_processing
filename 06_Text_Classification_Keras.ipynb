{
  "nbformat": 4,
  "nbformat_minor": 0,
  "metadata": {
    "colab": {
      "name": "Text_Classification_Keras.ipynb",
      "provenance": []
    },
    "kernelspec": {
      "name": "python3",
      "display_name": "Python 3"
    },
    "language_info": {
      "name": "python"
    }
  },
  "cells": [
    {
      "cell_type": "code",
      "metadata": {
        "colab": {
          "base_uri": "https://localhost:8080/"
        },
        "id": "0LUn3BupcM7n",
        "outputId": "aea69c56-8c48-4156-d76f-5e486d6f1cdb"
      },
      "source": [
        "!pip install kaggle"
      ],
      "execution_count": 2,
      "outputs": [
        {
          "output_type": "stream",
          "text": [
            "Requirement already satisfied: kaggle in /usr/local/lib/python3.7/dist-packages (1.5.12)\n",
            "Requirement already satisfied: python-dateutil in /usr/local/lib/python3.7/dist-packages (from kaggle) (2.8.1)\n",
            "Requirement already satisfied: tqdm in /usr/local/lib/python3.7/dist-packages (from kaggle) (4.41.1)\n",
            "Requirement already satisfied: python-slugify in /usr/local/lib/python3.7/dist-packages (from kaggle) (5.0.2)\n",
            "Requirement already satisfied: urllib3 in /usr/local/lib/python3.7/dist-packages (from kaggle) (1.24.3)\n",
            "Requirement already satisfied: six>=1.10 in /usr/local/lib/python3.7/dist-packages (from kaggle) (1.15.0)\n",
            "Requirement already satisfied: certifi in /usr/local/lib/python3.7/dist-packages (from kaggle) (2020.12.5)\n",
            "Requirement already satisfied: requests in /usr/local/lib/python3.7/dist-packages (from kaggle) (2.23.0)\n",
            "Requirement already satisfied: text-unidecode>=1.3 in /usr/local/lib/python3.7/dist-packages (from python-slugify->kaggle) (1.3)\n",
            "Requirement already satisfied: chardet<4,>=3.0.2 in /usr/local/lib/python3.7/dist-packages (from requests->kaggle) (3.0.4)\n",
            "Requirement already satisfied: idna<3,>=2.5 in /usr/local/lib/python3.7/dist-packages (from requests->kaggle) (2.10)\n"
          ],
          "name": "stdout"
        }
      ]
    },
    {
      "cell_type": "code",
      "metadata": {
        "colab": {
          "base_uri": "https://localhost:8080/"
        },
        "id": "3rWgbL-udThK",
        "outputId": "23662a29-d184-466c-a551-2be9cae6156d"
      },
      "source": [
        "from google.colab import drive\n",
        "drive.mount('/content/gdrive')"
      ],
      "execution_count": 4,
      "outputs": [
        {
          "output_type": "stream",
          "text": [
            "Mounted at /content/gdrive\n"
          ],
          "name": "stdout"
        }
      ]
    },
    {
      "cell_type": "code",
      "metadata": {
        "id": "IIocjF9ZdTb5"
      },
      "source": [
        "# set path to kaggle.json \n",
        "import os\n",
        "os.environ['KAGGLE_CONFIG_DIR']=\"/content/gdrive/MyDrive/Kaggle\""
      ],
      "execution_count": 3,
      "outputs": []
    },
    {
      "cell_type": "code",
      "metadata": {
        "id": "bYKNrSyldTZC"
      },
      "source": [
        "os.chdir(\"/content/gdrive/MyDrive/Kaggle\")"
      ],
      "execution_count": 4,
      "outputs": []
    },
    {
      "cell_type": "code",
      "metadata": {
        "colab": {
          "base_uri": "https://localhost:8080/"
        },
        "id": "bgx16KTMgA3y",
        "outputId": "5cdd0e16-401f-4bf0-c057-da0c9ee0d4fd"
      },
      "source": [
        "!kaggle competitions download -c jigsaw-toxic-comment-classification-challenge"
      ],
      "execution_count": 8,
      "outputs": [
        {
          "output_type": "stream",
          "text": [
            "Warning: Looks like you're using an outdated API Version, please consider updating (server 1.5.12 / client 1.5.4)\n",
            "test.csv.zip: Skipping, found more recently modified local copy (use --force to force download)\n",
            "sample_submission.csv.zip: Skipping, found more recently modified local copy (use --force to force download)\n",
            "test_labels.csv.zip: Skipping, found more recently modified local copy (use --force to force download)\n",
            "train.csv.zip: Skipping, found more recently modified local copy (use --force to force download)\n"
          ],
          "name": "stdout"
        }
      ]
    },
    {
      "cell_type": "code",
      "metadata": {
        "colab": {
          "base_uri": "https://localhost:8080/"
        },
        "id": "kgh8V5-pgAzP",
        "outputId": "6f868826-7cf4-4565-caf4-f28319a12a8c"
      },
      "source": [
        "#unzipping the zip files and deleting the zip files\n",
        "!unzip \\*.zip  && rm *.zip"
      ],
      "execution_count": 9,
      "outputs": [
        {
          "output_type": "stream",
          "text": [
            "Archive:  sample_submission.csv.zip\n",
            "  inflating: sample_submission.csv   \n",
            "\n",
            "Archive:  test_labels.csv.zip\n",
            "  inflating: test_labels.csv         \n",
            "\n",
            "Archive:  train.csv.zip\n",
            "  inflating: train.csv               \n",
            "\n",
            "Archive:  test.csv.zip\n",
            "  inflating: test.csv                \n",
            "\n",
            "4 archives were successfully processed.\n"
          ],
          "name": "stdout"
        }
      ]
    },
    {
      "cell_type": "markdown",
      "metadata": {
        "id": "pBVu75Sgm8EA"
      },
      "source": [
        "Training Keras  Embedding layer to learn words vector representation of the given corpus"
      ]
    },
    {
      "cell_type": "code",
      "metadata": {
        "id": "gLjooqW1gAwi"
      },
      "source": [
        "import sys,os,re,csv\n",
        "import numpy as np\n",
        "import pandas as pd\n",
        "import matplotlib.pyplot as plt\n",
        "%matplotlib inline\n",
        "\n",
        "from keras.preprocessing.text import Tokenizer\n",
        "from keras.preprocessing.sequence import pad_sequences\n",
        "from keras.layers import Dense,Input,LSTM,Embedding,Dropout,Activation\n",
        "from keras.layers import Bidirectional,GlobalMaxPool1D\n",
        "from keras.models import Model\n",
        "from keras import initializers,regularizers,constraints,optimizers,layers"
      ],
      "execution_count": 1,
      "outputs": []
    },
    {
      "cell_type": "code",
      "metadata": {
        "id": "_ljbBuJGoMPb"
      },
      "source": [
        "train=pd.read_csv(\"train.csv\")\n",
        "test=pd.read_csv(\"test.csv\")"
      ],
      "execution_count": 5,
      "outputs": []
    },
    {
      "cell_type": "code",
      "metadata": {
        "colab": {
          "base_uri": "https://localhost:8080/"
        },
        "id": "fDhNxO2LsS05",
        "outputId": "10642f5a-81a1-401e-fb1f-72e4d4f65779"
      },
      "source": [
        "train.info()"
      ],
      "execution_count": 6,
      "outputs": [
        {
          "output_type": "stream",
          "text": [
            "<class 'pandas.core.frame.DataFrame'>\n",
            "RangeIndex: 159571 entries, 0 to 159570\n",
            "Data columns (total 8 columns):\n",
            " #   Column         Non-Null Count   Dtype \n",
            "---  ------         --------------   ----- \n",
            " 0   id             159571 non-null  object\n",
            " 1   comment_text   159571 non-null  object\n",
            " 2   toxic          159571 non-null  int64 \n",
            " 3   severe_toxic   159571 non-null  int64 \n",
            " 4   obscene        159571 non-null  int64 \n",
            " 5   threat         159571 non-null  int64 \n",
            " 6   insult         159571 non-null  int64 \n",
            " 7   identity_hate  159571 non-null  int64 \n",
            "dtypes: int64(6), object(2)\n",
            "memory usage: 9.7+ MB\n"
          ],
          "name": "stdout"
        }
      ]
    },
    {
      "cell_type": "markdown",
      "metadata": {
        "id": "pYiCznFxoZeE"
      },
      "source": [
        "There are 6 target labels for classification. In the dataset, the labels are ont-hot encoded and presented as 6 columns to predict independently. we will use keras functional API to predict multiple outputs"
      ]
    },
    {
      "cell_type": "code",
      "metadata": {
        "colab": {
          "base_uri": "https://localhost:8080/",
          "height": 357
        },
        "id": "v33y4FUgoM1S",
        "outputId": "10f01c55-3ecc-4a40-eb60-88c1c633f499"
      },
      "source": [
        "train.head(10)"
      ],
      "execution_count": 7,
      "outputs": [
        {
          "output_type": "execute_result",
          "data": {
            "text/html": [
              "<div>\n",
              "<style scoped>\n",
              "    .dataframe tbody tr th:only-of-type {\n",
              "        vertical-align: middle;\n",
              "    }\n",
              "\n",
              "    .dataframe tbody tr th {\n",
              "        vertical-align: top;\n",
              "    }\n",
              "\n",
              "    .dataframe thead th {\n",
              "        text-align: right;\n",
              "    }\n",
              "</style>\n",
              "<table border=\"1\" class=\"dataframe\">\n",
              "  <thead>\n",
              "    <tr style=\"text-align: right;\">\n",
              "      <th></th>\n",
              "      <th>id</th>\n",
              "      <th>comment_text</th>\n",
              "      <th>toxic</th>\n",
              "      <th>severe_toxic</th>\n",
              "      <th>obscene</th>\n",
              "      <th>threat</th>\n",
              "      <th>insult</th>\n",
              "      <th>identity_hate</th>\n",
              "    </tr>\n",
              "  </thead>\n",
              "  <tbody>\n",
              "    <tr>\n",
              "      <th>0</th>\n",
              "      <td>0000997932d777bf</td>\n",
              "      <td>Explanation\\nWhy the edits made under my usern...</td>\n",
              "      <td>0</td>\n",
              "      <td>0</td>\n",
              "      <td>0</td>\n",
              "      <td>0</td>\n",
              "      <td>0</td>\n",
              "      <td>0</td>\n",
              "    </tr>\n",
              "    <tr>\n",
              "      <th>1</th>\n",
              "      <td>000103f0d9cfb60f</td>\n",
              "      <td>D'aww! He matches this background colour I'm s...</td>\n",
              "      <td>0</td>\n",
              "      <td>0</td>\n",
              "      <td>0</td>\n",
              "      <td>0</td>\n",
              "      <td>0</td>\n",
              "      <td>0</td>\n",
              "    </tr>\n",
              "    <tr>\n",
              "      <th>2</th>\n",
              "      <td>000113f07ec002fd</td>\n",
              "      <td>Hey man, I'm really not trying to edit war. It...</td>\n",
              "      <td>0</td>\n",
              "      <td>0</td>\n",
              "      <td>0</td>\n",
              "      <td>0</td>\n",
              "      <td>0</td>\n",
              "      <td>0</td>\n",
              "    </tr>\n",
              "    <tr>\n",
              "      <th>3</th>\n",
              "      <td>0001b41b1c6bb37e</td>\n",
              "      <td>\"\\nMore\\nI can't make any real suggestions on ...</td>\n",
              "      <td>0</td>\n",
              "      <td>0</td>\n",
              "      <td>0</td>\n",
              "      <td>0</td>\n",
              "      <td>0</td>\n",
              "      <td>0</td>\n",
              "    </tr>\n",
              "    <tr>\n",
              "      <th>4</th>\n",
              "      <td>0001d958c54c6e35</td>\n",
              "      <td>You, sir, are my hero. Any chance you remember...</td>\n",
              "      <td>0</td>\n",
              "      <td>0</td>\n",
              "      <td>0</td>\n",
              "      <td>0</td>\n",
              "      <td>0</td>\n",
              "      <td>0</td>\n",
              "    </tr>\n",
              "    <tr>\n",
              "      <th>5</th>\n",
              "      <td>00025465d4725e87</td>\n",
              "      <td>\"\\n\\nCongratulations from me as well, use the ...</td>\n",
              "      <td>0</td>\n",
              "      <td>0</td>\n",
              "      <td>0</td>\n",
              "      <td>0</td>\n",
              "      <td>0</td>\n",
              "      <td>0</td>\n",
              "    </tr>\n",
              "    <tr>\n",
              "      <th>6</th>\n",
              "      <td>0002bcb3da6cb337</td>\n",
              "      <td>COCKSUCKER BEFORE YOU PISS AROUND ON MY WORK</td>\n",
              "      <td>1</td>\n",
              "      <td>1</td>\n",
              "      <td>1</td>\n",
              "      <td>0</td>\n",
              "      <td>1</td>\n",
              "      <td>0</td>\n",
              "    </tr>\n",
              "    <tr>\n",
              "      <th>7</th>\n",
              "      <td>00031b1e95af7921</td>\n",
              "      <td>Your vandalism to the Matt Shirvington article...</td>\n",
              "      <td>0</td>\n",
              "      <td>0</td>\n",
              "      <td>0</td>\n",
              "      <td>0</td>\n",
              "      <td>0</td>\n",
              "      <td>0</td>\n",
              "    </tr>\n",
              "    <tr>\n",
              "      <th>8</th>\n",
              "      <td>00037261f536c51d</td>\n",
              "      <td>Sorry if the word 'nonsense' was offensive to ...</td>\n",
              "      <td>0</td>\n",
              "      <td>0</td>\n",
              "      <td>0</td>\n",
              "      <td>0</td>\n",
              "      <td>0</td>\n",
              "      <td>0</td>\n",
              "    </tr>\n",
              "    <tr>\n",
              "      <th>9</th>\n",
              "      <td>00040093b2687caa</td>\n",
              "      <td>alignment on this subject and which are contra...</td>\n",
              "      <td>0</td>\n",
              "      <td>0</td>\n",
              "      <td>0</td>\n",
              "      <td>0</td>\n",
              "      <td>0</td>\n",
              "      <td>0</td>\n",
              "    </tr>\n",
              "  </tbody>\n",
              "</table>\n",
              "</div>"
            ],
            "text/plain": [
              "                 id  ... identity_hate\n",
              "0  0000997932d777bf  ...             0\n",
              "1  000103f0d9cfb60f  ...             0\n",
              "2  000113f07ec002fd  ...             0\n",
              "3  0001b41b1c6bb37e  ...             0\n",
              "4  0001d958c54c6e35  ...             0\n",
              "5  00025465d4725e87  ...             0\n",
              "6  0002bcb3da6cb337  ...             0\n",
              "7  00031b1e95af7921  ...             0\n",
              "8  00037261f536c51d  ...             0\n",
              "9  00040093b2687caa  ...             0\n",
              "\n",
              "[10 rows x 8 columns]"
            ]
          },
          "metadata": {
            "tags": []
          },
          "execution_count": 7
        }
      ]
    },
    {
      "cell_type": "markdown",
      "metadata": {
        "id": "XrNc9CCSpBC_"
      },
      "source": [
        "# Preprocessing\n",
        "A common preprocessing step is to check for nulls, and fill the null values with something before proceeding to the next steps. If you leave the null values intact, it will trip you up at the modelling stage late\n",
        "\n",
        "Below code shows that we dont have any null value"
      ]
    },
    {
      "cell_type": "code",
      "metadata": {
        "colab": {
          "base_uri": "https://localhost:8080/"
        },
        "id": "m7YTCACqoMyy",
        "outputId": "88f65411-d3cf-4969-bf15-75d6077e90db"
      },
      "source": [
        "train.isnull().any()"
      ],
      "execution_count": 8,
      "outputs": [
        {
          "output_type": "execute_result",
          "data": {
            "text/plain": [
              "id               False\n",
              "comment_text     False\n",
              "toxic            False\n",
              "severe_toxic     False\n",
              "obscene          False\n",
              "threat           False\n",
              "insult           False\n",
              "identity_hate    False\n",
              "dtype: bool"
            ]
          },
          "metadata": {
            "tags": []
          },
          "execution_count": 8
        }
      ]
    },
    {
      "cell_type": "code",
      "metadata": {
        "colab": {
          "base_uri": "https://localhost:8080/"
        },
        "id": "pSilYpYAoMqq",
        "outputId": "1a86c3f5-a775-49d6-c96c-d5c6872ba4d9"
      },
      "source": [
        "test.isnull().any()"
      ],
      "execution_count": 9,
      "outputs": [
        {
          "output_type": "execute_result",
          "data": {
            "text/plain": [
              "id              False\n",
              "comment_text    False\n",
              "dtype: bool"
            ]
          },
          "metadata": {
            "tags": []
          },
          "execution_count": 9
        }
      ]
    },
    {
      "cell_type": "code",
      "metadata": {
        "id": "4SUZqNcroMns"
      },
      "source": [
        "def clean_text(text):\n",
        "  text=str(text)\n",
        "  text=re.sub(\"[^a-zA-Z\\s\\.]\",'',text)\n",
        "  text=text.strip()\n",
        "  text=text.lower()\n",
        "  text=text.replace('\\n',' ')\n",
        "\n",
        "  return text\n",
        "\n",
        "train['comment_text']=train['comment_text'].apply(lambda x : clean_text(x))"
      ],
      "execution_count": 10,
      "outputs": []
    },
    {
      "cell_type": "code",
      "metadata": {
        "id": "H90Blu-0qRIp"
      },
      "source": [
        "test['comment_text']=test['comment_text'].apply(lambda x : clean_text(x))"
      ],
      "execution_count": 11,
      "outputs": []
    },
    {
      "cell_type": "code",
      "metadata": {
        "colab": {
          "base_uri": "https://localhost:8080/",
          "height": 357
        },
        "id": "5YcbIvpqqU-q",
        "outputId": "762c628c-02dd-4bde-af29-cfbb168550cb"
      },
      "source": [
        "train.head(10)"
      ],
      "execution_count": 12,
      "outputs": [
        {
          "output_type": "execute_result",
          "data": {
            "text/html": [
              "<div>\n",
              "<style scoped>\n",
              "    .dataframe tbody tr th:only-of-type {\n",
              "        vertical-align: middle;\n",
              "    }\n",
              "\n",
              "    .dataframe tbody tr th {\n",
              "        vertical-align: top;\n",
              "    }\n",
              "\n",
              "    .dataframe thead th {\n",
              "        text-align: right;\n",
              "    }\n",
              "</style>\n",
              "<table border=\"1\" class=\"dataframe\">\n",
              "  <thead>\n",
              "    <tr style=\"text-align: right;\">\n",
              "      <th></th>\n",
              "      <th>id</th>\n",
              "      <th>comment_text</th>\n",
              "      <th>toxic</th>\n",
              "      <th>severe_toxic</th>\n",
              "      <th>obscene</th>\n",
              "      <th>threat</th>\n",
              "      <th>insult</th>\n",
              "      <th>identity_hate</th>\n",
              "    </tr>\n",
              "  </thead>\n",
              "  <tbody>\n",
              "    <tr>\n",
              "      <th>0</th>\n",
              "      <td>0000997932d777bf</td>\n",
              "      <td>explanation why the edits made under my userna...</td>\n",
              "      <td>0</td>\n",
              "      <td>0</td>\n",
              "      <td>0</td>\n",
              "      <td>0</td>\n",
              "      <td>0</td>\n",
              "      <td>0</td>\n",
              "    </tr>\n",
              "    <tr>\n",
              "      <th>1</th>\n",
              "      <td>000103f0d9cfb60f</td>\n",
              "      <td>daww he matches this background colour im seem...</td>\n",
              "      <td>0</td>\n",
              "      <td>0</td>\n",
              "      <td>0</td>\n",
              "      <td>0</td>\n",
              "      <td>0</td>\n",
              "      <td>0</td>\n",
              "    </tr>\n",
              "    <tr>\n",
              "      <th>2</th>\n",
              "      <td>000113f07ec002fd</td>\n",
              "      <td>hey man im really not trying to edit war. its ...</td>\n",
              "      <td>0</td>\n",
              "      <td>0</td>\n",
              "      <td>0</td>\n",
              "      <td>0</td>\n",
              "      <td>0</td>\n",
              "      <td>0</td>\n",
              "    </tr>\n",
              "    <tr>\n",
              "      <th>3</th>\n",
              "      <td>0001b41b1c6bb37e</td>\n",
              "      <td>more i cant make any real suggestions on impro...</td>\n",
              "      <td>0</td>\n",
              "      <td>0</td>\n",
              "      <td>0</td>\n",
              "      <td>0</td>\n",
              "      <td>0</td>\n",
              "      <td>0</td>\n",
              "    </tr>\n",
              "    <tr>\n",
              "      <th>4</th>\n",
              "      <td>0001d958c54c6e35</td>\n",
              "      <td>you sir are my hero. any chance you remember w...</td>\n",
              "      <td>0</td>\n",
              "      <td>0</td>\n",
              "      <td>0</td>\n",
              "      <td>0</td>\n",
              "      <td>0</td>\n",
              "      <td>0</td>\n",
              "    </tr>\n",
              "    <tr>\n",
              "      <th>5</th>\n",
              "      <td>00025465d4725e87</td>\n",
              "      <td>congratulations from me as well use the tools ...</td>\n",
              "      <td>0</td>\n",
              "      <td>0</td>\n",
              "      <td>0</td>\n",
              "      <td>0</td>\n",
              "      <td>0</td>\n",
              "      <td>0</td>\n",
              "    </tr>\n",
              "    <tr>\n",
              "      <th>6</th>\n",
              "      <td>0002bcb3da6cb337</td>\n",
              "      <td>cocksucker before you piss around on my work</td>\n",
              "      <td>1</td>\n",
              "      <td>1</td>\n",
              "      <td>1</td>\n",
              "      <td>0</td>\n",
              "      <td>1</td>\n",
              "      <td>0</td>\n",
              "    </tr>\n",
              "    <tr>\n",
              "      <th>7</th>\n",
              "      <td>00031b1e95af7921</td>\n",
              "      <td>your vandalism to the matt shirvington article...</td>\n",
              "      <td>0</td>\n",
              "      <td>0</td>\n",
              "      <td>0</td>\n",
              "      <td>0</td>\n",
              "      <td>0</td>\n",
              "      <td>0</td>\n",
              "    </tr>\n",
              "    <tr>\n",
              "      <th>8</th>\n",
              "      <td>00037261f536c51d</td>\n",
              "      <td>sorry if the word nonsense was offensive to yo...</td>\n",
              "      <td>0</td>\n",
              "      <td>0</td>\n",
              "      <td>0</td>\n",
              "      <td>0</td>\n",
              "      <td>0</td>\n",
              "      <td>0</td>\n",
              "    </tr>\n",
              "    <tr>\n",
              "      <th>9</th>\n",
              "      <td>00040093b2687caa</td>\n",
              "      <td>alignment on this subject and which are contra...</td>\n",
              "      <td>0</td>\n",
              "      <td>0</td>\n",
              "      <td>0</td>\n",
              "      <td>0</td>\n",
              "      <td>0</td>\n",
              "      <td>0</td>\n",
              "    </tr>\n",
              "  </tbody>\n",
              "</table>\n",
              "</div>"
            ],
            "text/plain": [
              "                 id  ... identity_hate\n",
              "0  0000997932d777bf  ...             0\n",
              "1  000103f0d9cfb60f  ...             0\n",
              "2  000113f07ec002fd  ...             0\n",
              "3  0001b41b1c6bb37e  ...             0\n",
              "4  0001d958c54c6e35  ...             0\n",
              "5  00025465d4725e87  ...             0\n",
              "6  0002bcb3da6cb337  ...             0\n",
              "7  00031b1e95af7921  ...             0\n",
              "8  00037261f536c51d  ...             0\n",
              "9  00040093b2687caa  ...             0\n",
              "\n",
              "[10 rows x 8 columns]"
            ]
          },
          "metadata": {
            "tags": []
          },
          "execution_count": 12
        }
      ]
    },
    {
      "cell_type": "code",
      "metadata": {
        "id": "ZR4P40RmqU7v"
      },
      "source": [
        "classes=[\"toxic\", \"severe_toxic\", \"obscene\", \"threat\", \"insult\", \"identity_hate\"]\n",
        "y=train[classes].values\n",
        "sentences_train=train['comment_text'].values\n",
        "sentences_test=test['comment_text'].values"
      ],
      "execution_count": 13,
      "outputs": []
    },
    {
      "cell_type": "code",
      "metadata": {
        "colab": {
          "base_uri": "https://localhost:8080/"
        },
        "id": "MTPX_3BMsE0O",
        "outputId": "c21871e6-cbac-482c-ada2-5d1a283d5f1b"
      },
      "source": [
        "print(sentences_train[:3])\n",
        "sentences_train.shape   # each sentence is a single element in the array"
      ],
      "execution_count": 14,
      "outputs": [
        {
          "output_type": "stream",
          "text": [
            "['explanation why the edits made under my username hardcore metallica fan were reverted they werent vandalisms just closure on some gas after i voted at new york dolls fac. and please dont remove the template from the talk page since im retired now....'\n",
            " 'daww he matches this background colour im seemingly stuck with. thanks.  talk  january   utc'\n",
            " 'hey man im really not trying to edit war. its just that this guy is constantly removing relevant information and talking to me through edits instead of my talk page. he seems to care more about the formatting than the actual info.']\n"
          ],
          "name": "stdout"
        },
        {
          "output_type": "execute_result",
          "data": {
            "text/plain": [
              "(159571,)"
            ]
          },
          "metadata": {
            "tags": []
          },
          "execution_count": 14
        }
      ]
    },
    {
      "cell_type": "markdown",
      "metadata": {
        "id": "vKMaRu7MrD4u"
      },
      "source": [
        "Preprocessing to feed data into Embedding layer\n",
        "1. Vocabulary creating thru Tokenization - We need to break down the sentence into unique words. For eg, \"I love cats and love dogs\" will become [\"I\",\"love\",\"cats\",\"and\",\"dogs\"]\n",
        "\n",
        "2. Indexing - We put the words in a dictionary-like structure and give them an index each For eg, {1:\"I\",2:\"love\",3:\"cats\",4:\"and\",5:\"dogs\"}\n",
        "\n",
        "3. Index Representation- We could represent the sequence of words in the comments in the form of index, and feed this chain of index into our LSTM. For eg, [1,2,3,4,2,5]"
      ]
    },
    {
      "cell_type": "code",
      "metadata": {
        "id": "rDkw-OqwqU5N"
      },
      "source": [
        "\n",
        "tokenizer=Tokenizer()\n",
        "tokenizer.fit_on_texts(list(sentences_train))\n",
        "max_features=len(tokenizer.word_index) +1\n",
        "list_tokenized_train=tokenizer.texts_to_sequences(list(sentences_train))\n",
        "list_tokenized_test=tokenizer.texts_to_sequences(list(sentences_test))\n"
      ],
      "execution_count": 15,
      "outputs": []
    },
    {
      "cell_type": "code",
      "metadata": {
        "colab": {
          "base_uri": "https://localhost:8080/"
        },
        "id": "aFXepdcHqU21",
        "outputId": "85133220-0682-43f2-e106-24a334ed313a"
      },
      "source": [
        "print(list_tokenized_train[:2])"
      ],
      "execution_count": 16,
      "outputs": [
        {
          "output_type": "stream",
          "text": [
            "[[646, 74, 1, 122, 126, 173, 28, 639, 4550, 11387, 1056, 82, 313, 52, 2028, 10841, 50, 6471, 15, 61, 2625, 143, 7, 2780, 33, 114, 1145, 15220, 2813, 4, 45, 54, 235, 1, 412, 30, 1, 43, 27, 141, 69, 3317, 89], [93210, 53, 2458, 13, 1404, 3598, 69, 4203, 2535, 21, 93, 43, 919, 176]]\n"
          ],
          "name": "stdout"
        }
      ]
    },
    {
      "cell_type": "code",
      "metadata": {
        "colab": {
          "base_uri": "https://localhost:8080/"
        },
        "id": "KEEx-OKBtPib",
        "outputId": "dd754ee0-7470-437c-e948-18b16415be91"
      },
      "source": [
        "# Vocabulary\n",
        "count=0\n",
        "for k,i in tokenizer.word_index.items():\n",
        "  print(k,\" \", i)\n",
        "  count+=1\n",
        "  if count >5:\n",
        "    break"
      ],
      "execution_count": 17,
      "outputs": [
        {
          "output_type": "stream",
          "text": [
            "the   1\n",
            "to   2\n",
            "of   3\n",
            "and   4\n",
            "a   5\n",
            "you   6\n"
          ],
          "name": "stdout"
        }
      ]
    },
    {
      "cell_type": "code",
      "metadata": {
        "id": "CtF3FP6BtPdq"
      },
      "source": [
        "#tokenizer.word_counts  give count for each word"
      ],
      "execution_count": null,
      "outputs": []
    },
    {
      "cell_type": "code",
      "metadata": {
        "colab": {
          "base_uri": "https://localhost:8080/"
        },
        "id": "lf73wmoovhYY",
        "outputId": "6d93825b-a8ae-4dd6-ebb4-bc0fe8b79061"
      },
      "source": [
        "np.arange(0,410,50)"
      ],
      "execution_count": 45,
      "outputs": [
        {
          "output_type": "execute_result",
          "data": {
            "text/plain": [
              "array([  0,  50, 100, 150, 200, 250, 300, 350, 400])"
            ]
          },
          "metadata": {
            "tags": []
          },
          "execution_count": 45
        }
      ]
    },
    {
      "cell_type": "markdown",
      "metadata": {
        "id": "zjyj_VjvvzR8"
      },
      "source": [
        "Below we see that most of the sentence length is about 30+. We could set the \"maxlen\" to about 50, "
      ]
    },
    {
      "cell_type": "code",
      "metadata": {
        "colab": {
          "base_uri": "https://localhost:8080/",
          "height": 265
        },
        "id": "rzocVyTivKVu",
        "outputId": "d3484bc9-8407-4898-d70d-666d3c312308"
      },
      "source": [
        "# finding the optimum value for maxlen of sentences\n",
        "totalNumWords = [len(one_comment) for one_comment in list_tokenized_train]\n",
        "plt.hist(totalNumWords,bins=np.arange(0,410,50))\n",
        "plt.show()"
      ],
      "execution_count": 18,
      "outputs": [
        {
          "output_type": "display_data",
          "data": {
            "image/png": "[encoded data removed]",
            "text/plain": [
              "<Figure size 432x288 with 1 Axes>"
            ]
          },
          "metadata": {
            "tags": [],
            "needs_background": "light"
          }
        }
      ]
    },
    {
      "cell_type": "code",
      "metadata": {
        "id": "Ob1rnyYhtPa7"
      },
      "source": [
        "# padding to make all sentences of equal length\n",
        "maxlen=100\n",
        "xtrain=pad_sequences(list_tokenized_train,maxlen=maxlen)\n",
        "xtest=pad_sequences(list_tokenized_test,maxlen=maxlen) "
      ],
      "execution_count": 19,
      "outputs": []
    },
    {
      "cell_type": "markdown",
      "metadata": {
        "id": "CY2cQDX7x7f9"
      },
      "source": [
        "Building the LSTM neural network model for classification\n",
        "\n",
        "the inputs into our networks are our list of encoded sentences. We begin our defining an Input layer that accepts a list of sentences that has a dimension of 100.By indicating an empty space after comma, we are telling Keras to infer the number automatically\n",
        "Next, we pass it to our Embedding layer, where we project the words to a defined vector space depending on the distance of the surrounding words in a sentence.Embedding layer create svector representations for words, it outputs list of vectors for words for each sentence\n",
        "\n",
        "before we could pass the output of LSTM to a normal layer, we need to reshape the 3D tensor into a 2D one. we will use GlobalMaxPool\n",
        "Pooling layers are used for dimensionlity reduction\n",
        "\n",
        "With a 2D Tensor in our hands, we pass it to a Dropout layer which indiscriminately \"disable\" some nodes so that the nodes in the next layer is forced to handle the representation of the missing data and the whole network could result in better generalization.\n",
        "\n",
        "After a drop out layer, we connect the output of drop out layer to a densely connected layer and the output passes through a RELU function\n",
        "\n",
        "Finally, we feed the output into a Sigmoid layer. The reason why sigmoid is used is because we are trying to achieve a binary classification(1,0) for each of the 6 labels, and the sigmoid function will squash the output between the bounds of 0 and 1.\n",
        "\n"
      ]
    },
    {
      "cell_type": "code",
      "metadata": {
        "id": "RWYQFFGluz0-"
      },
      "source": [
        "# input layer\n",
        "inp=Input(shape=(maxlen,))   # 100\n",
        "embed_size=128\n",
        "x=Embedding(max_features,embed_size)(inp)    # outputs tensor of shape (none,input_shape,embed_size)\n",
        "x=LSTM(100,return_sequences=True,name='lstm-layer1')(x)\n",
        "x=GlobalMaxPool1D()(x)\n",
        "x=Dropout(0.1)(x)\n",
        "x = Dense(50, activation=\"relu\")(x)\n",
        "x = Dropout(0.1)(x)\n",
        "x = Dense(6, activation=\"sigmoid\")(x)"
      ],
      "execution_count": 20,
      "outputs": []
    },
    {
      "cell_type": "code",
      "metadata": {
        "id": "M5qgKZyguzv0"
      },
      "source": [
        "model=Model(inputs=inp,outputs=x)\n",
        "model.compile(loss='binary_crossentropy',optimizer='adam',metrics=['accuracy'])"
      ],
      "execution_count": 21,
      "outputs": []
    },
    {
      "cell_type": "code",
      "metadata": {
        "colab": {
          "base_uri": "https://localhost:8080/"
        },
        "id": "_R3XqMhatPWr",
        "outputId": "7605a564-034d-423d-dcfb-7afffcdd315c"
      },
      "source": [
        "batch_size=32\n",
        "epochs=2\n",
        "model.fit(xtrain,y,batch_size=batch_size,validation_split=0.1,epochs=epochs) "
      ],
      "execution_count": 22,
      "outputs": [
        {
          "output_type": "stream",
          "text": [
            "Epoch 1/2\n",
            "4488/4488 [==============================] - 1743s 384ms/step - loss: 0.0996 - accuracy: 0.8709 - val_loss: 0.0506 - val_accuracy: 0.9937\n",
            "Epoch 2/2\n",
            "4488/4488 [==============================] - 1690s 377ms/step - loss: 0.0415 - accuracy: 0.9829 - val_loss: 0.0493 - val_accuracy: 0.9926\n"
          ],
          "name": "stdout"
        },
        {
          "output_type": "execute_result",
          "data": {
            "text/plain": [
              "<keras.callbacks.History at 0x7fe4a65fc5d0>"
            ]
          },
          "metadata": {
            "tags": []
          },
          "execution_count": 22
        }
      ]
    },
    {
      "cell_type": "code",
      "metadata": {
        "colab": {
          "base_uri": "https://localhost:8080/"
        },
        "id": "ViExhc52LqqU",
        "outputId": "c9d7d71a-8ebb-42e8-dbfe-cabc597b4367"
      },
      "source": [
        "model.summary()"
      ],
      "execution_count": 23,
      "outputs": [
        {
          "output_type": "stream",
          "text": [
            "Model: \"model\"\n",
            "_________________________________________________________________\n",
            "Layer (type)                 Output Shape              Param #   \n",
            "=================================================================\n",
            "input_1 (InputLayer)         [(None, 100)]             0         \n",
            "_________________________________________________________________\n",
            "embedding (Embedding)        (None, 100, 128)          28006528  \n",
            "_________________________________________________________________\n",
            "lstm-layer1 (LSTM)           (None, 100, 100)          91600     \n",
            "_________________________________________________________________\n",
            "global_max_pooling1d (Global (None, 100)               0         \n",
            "_________________________________________________________________\n",
            "dropout (Dropout)            (None, 100)               0         \n",
            "_________________________________________________________________\n",
            "dense (Dense)                (None, 50)                5050      \n",
            "_________________________________________________________________\n",
            "dropout_1 (Dropout)          (None, 50)                0         \n",
            "_________________________________________________________________\n",
            "dense_1 (Dense)              (None, 6)                 306       \n",
            "=================================================================\n",
            "Total params: 28,103,484\n",
            "Trainable params: 28,103,484\n",
            "Non-trainable params: 0\n",
            "_________________________________________________________________\n"
          ],
          "name": "stdout"
        }
      ]
    },
    {
      "cell_type": "code",
      "metadata": {
        "colab": {
          "base_uri": "https://localhost:8080/"
        },
        "id": "3BB5VsYJLqnq",
        "outputId": "df829f1d-712a-442d-b0e5-d72bded6b098"
      },
      "source": [
        "model.predict(xtest[0])"
      ],
      "execution_count": 24,
      "outputs": [
        {
          "output_type": "stream",
          "text": [
            "WARNING:tensorflow:Model was constructed with shape (None, 100) for input KerasTensor(type_spec=TensorSpec(shape=(None, 100), dtype=tf.float32, name='input_1'), name='input_1', description=\"created by layer 'input_1'\"), but it was called on an input with incompatible shape (None, 1).\n"
          ],
          "name": "stdout"
        },
        {
          "output_type": "execute_result",
          "data": {
            "text/plain": [
              "array([[2.72840261e-03, 1.34421489e-05, 5.59836626e-04, 1.79439783e-04,\n",
              "        2.87175179e-04, 1.38580799e-04],\n",
              "       [2.72840261e-03, 1.34421489e-05, 5.59836626e-04, 1.79439783e-04,\n",
              "        2.87175179e-04, 1.38580799e-04],\n",
              "       [2.72840261e-03, 1.34421489e-05, 5.59836626e-04, 1.79439783e-04,\n",
              "        2.87175179e-04, 1.38580799e-04],\n",
              "       [2.72840261e-03, 1.34421489e-05, 5.59836626e-04, 1.79439783e-04,\n",
              "        2.87175179e-04, 1.38580799e-04],\n",
              "       [2.72840261e-03, 1.34421489e-05, 5.59836626e-04, 1.79439783e-04,\n",
              "        2.87175179e-04, 1.38580799e-04],\n",
              "       [2.72840261e-03, 1.34421489e-05, 5.59836626e-04, 1.79439783e-04,\n",
              "        2.87175179e-04, 1.38580799e-04],\n",
              "       [2.72840261e-03, 1.34421489e-05, 5.59836626e-04, 1.79439783e-04,\n",
              "        2.87175179e-04, 1.38580799e-04],\n",
              "       [2.72840261e-03, 1.34421489e-05, 5.59836626e-04, 1.79439783e-04,\n",
              "        2.87175179e-04, 1.38580799e-04],\n",
              "       [2.72840261e-03, 1.34421489e-05, 5.59836626e-04, 1.79439783e-04,\n",
              "        2.87175179e-04, 1.38580799e-04],\n",
              "       [2.72840261e-03, 1.34421489e-05, 5.59836626e-04, 1.79439783e-04,\n",
              "        2.87175179e-04, 1.38580799e-04],\n",
              "       [2.72840261e-03, 1.34421489e-05, 5.59836626e-04, 1.79439783e-04,\n",
              "        2.87175179e-04, 1.38580799e-04],\n",
              "       [2.72840261e-03, 1.34421489e-05, 5.59836626e-04, 1.79439783e-04,\n",
              "        2.87175179e-04, 1.38580799e-04],\n",
              "       [2.72840261e-03, 1.34421489e-05, 5.59836626e-04, 1.79439783e-04,\n",
              "        2.87175179e-04, 1.38580799e-04],\n",
              "       [2.72840261e-03, 1.34421489e-05, 5.59836626e-04, 1.79439783e-04,\n",
              "        2.87175179e-04, 1.38580799e-04],\n",
              "       [2.72840261e-03, 1.34421489e-05, 5.59836626e-04, 1.79439783e-04,\n",
              "        2.87175179e-04, 1.38580799e-04],\n",
              "       [2.72840261e-03, 1.34421489e-05, 5.59836626e-04, 1.79439783e-04,\n",
              "        2.87175179e-04, 1.38580799e-04],\n",
              "       [2.72840261e-03, 1.34421489e-05, 5.59836626e-04, 1.79439783e-04,\n",
              "        2.87175179e-04, 1.38580799e-04],\n",
              "       [2.72840261e-03, 1.34421489e-05, 5.59836626e-04, 1.79439783e-04,\n",
              "        2.87175179e-04, 1.38580799e-04],\n",
              "       [2.72840261e-03, 1.34421489e-05, 5.59836626e-04, 1.79439783e-04,\n",
              "        2.87175179e-04, 1.38580799e-04],\n",
              "       [2.72840261e-03, 1.34421489e-05, 5.59836626e-04, 1.79439783e-04,\n",
              "        2.87175179e-04, 1.38580799e-04],\n",
              "       [2.72840261e-03, 1.34421489e-05, 5.59836626e-04, 1.79439783e-04,\n",
              "        2.87175179e-04, 1.38580799e-04],\n",
              "       [2.72840261e-03, 1.34421489e-05, 5.59836626e-04, 1.79439783e-04,\n",
              "        2.87175179e-04, 1.38580799e-04],\n",
              "       [2.72840261e-03, 1.34421489e-05, 5.59836626e-04, 1.79439783e-04,\n",
              "        2.87175179e-04, 1.38580799e-04],\n",
              "       [2.72840261e-03, 1.34421489e-05, 5.59836626e-04, 1.79439783e-04,\n",
              "        2.87175179e-04, 1.38580799e-04],\n",
              "       [2.72840261e-03, 1.34421489e-05, 5.59836626e-04, 1.79439783e-04,\n",
              "        2.87175179e-04, 1.38580799e-04],\n",
              "       [2.72840261e-03, 1.34421489e-05, 5.59836626e-04, 1.79439783e-04,\n",
              "        2.87175179e-04, 1.38580799e-04],\n",
              "       [2.72840261e-03, 1.34421489e-05, 5.59836626e-04, 1.79439783e-04,\n",
              "        2.87175179e-04, 1.38580799e-04],\n",
              "       [2.72840261e-03, 1.34421489e-05, 5.59836626e-04, 1.79439783e-04,\n",
              "        2.87175179e-04, 1.38580799e-04],\n",
              "       [6.19987547e-01, 6.11572862e-02, 2.20339030e-01, 8.20534825e-02,\n",
              "        1.75687879e-01, 1.03372157e-01],\n",
              "       [9.99132514e-01, 7.45617628e-01, 9.91486788e-01, 1.62782073e-02,\n",
              "        7.09367573e-01, 5.72952330e-02],\n",
              "       [5.52408099e-02, 1.99487805e-03, 1.64567828e-02, 8.33910704e-03,\n",
              "        1.23471618e-02, 8.52710009e-03],\n",
              "       [2.31556594e-02, 9.56982374e-04, 1.28164589e-02, 3.14700603e-03,\n",
              "        6.57799840e-03, 5.48544526e-03],\n",
              "       [3.33510756e-01, 2.46936679e-02, 9.09739733e-02, 4.57541347e-02,\n",
              "        9.71484482e-02, 7.48218000e-02],\n",
              "       [5.21774888e-02, 2.47335434e-03, 2.11481154e-02, 8.27637315e-03,\n",
              "        1.42345130e-02, 1.05611086e-02],\n",
              "       [1.21671259e-02, 4.14729118e-04, 6.43697381e-03, 1.62982941e-03,\n",
              "        3.26085091e-03, 2.37622857e-03],\n",
              "       [2.87130952e-01, 4.35844660e-02, 1.14613861e-01, 5.75069487e-02,\n",
              "        8.71940553e-02, 8.21117759e-02],\n",
              "       [6.25850022e-01, 3.01837116e-01, 3.47405761e-01, 2.21421301e-01,\n",
              "        2.83342242e-01, 2.62311935e-01],\n",
              "       [7.69388676e-01, 2.69519180e-01, 4.17235970e-01, 1.82902962e-01,\n",
              "        3.06277722e-01, 2.25017756e-01],\n",
              "       [1.64791167e-01, 9.54312086e-03, 5.05047739e-02, 2.68379450e-02,\n",
              "        4.51124012e-02, 3.26502621e-02],\n",
              "       [7.03760982e-03, 2.14755535e-04, 4.15369868e-03, 8.67962837e-04,\n",
              "        1.83457136e-03, 1.39060616e-03],\n",
              "       [4.23234999e-01, 4.54368889e-02, 1.42167628e-01, 7.66864419e-02,\n",
              "        1.30606920e-01, 9.83876884e-02],\n",
              "       [3.41239572e-01, 6.33659065e-02, 1.50804996e-01, 8.47036541e-02,\n",
              "        1.29681349e-01, 1.15657896e-01],\n",
              "       [8.51287127e-01, 1.67517304e-01, 4.96552169e-01, 1.16555810e-01,\n",
              "        3.26254129e-01, 1.51535302e-01],\n",
              "       [3.75211447e-01, 5.71853220e-02, 1.33857280e-01, 7.43307471e-02,\n",
              "        1.12483114e-01, 1.01810366e-01],\n",
              "       [1.79413140e-01, 7.34022260e-03, 4.56131995e-02, 2.28003561e-02,\n",
              "        3.92889678e-02, 2.67502069e-02],\n",
              "       [8.51287127e-01, 1.67517304e-01, 4.96552169e-01, 1.16555810e-01,\n",
              "        3.26254129e-01, 1.51535302e-01],\n",
              "       [5.25657415e-01, 1.45190239e-01, 2.36738831e-01, 1.49837643e-01,\n",
              "        2.03931779e-01, 1.86579764e-01],\n",
              "       [4.03916150e-01, 7.80157745e-02, 1.65025026e-01, 1.00763142e-01,\n",
              "        1.28033876e-01, 1.24987632e-01],\n",
              "       [2.54308522e-01, 2.60717571e-02, 1.01154625e-01, 4.64884937e-02,\n",
              "        8.43210220e-02, 6.72498047e-02],\n",
              "       [9.99132514e-01, 7.45617628e-01, 9.91486788e-01, 1.62782073e-02,\n",
              "        7.09367573e-01, 5.72952330e-02],\n",
              "       [8.63696456e-01, 4.15425867e-01, 5.87292969e-01, 1.77031755e-01,\n",
              "        4.48373944e-01, 2.68487841e-01],\n",
              "       [8.11169982e-01, 1.45365268e-01, 3.90291184e-01, 1.22264147e-01,\n",
              "        3.06371927e-01, 1.58016264e-01],\n",
              "       [7.44074106e-01, 4.10352618e-01, 4.82759595e-01, 2.52984196e-01,\n",
              "        3.44427645e-01, 3.00719082e-01],\n",
              "       [8.74299526e-01, 2.54332066e-01, 5.39473355e-01, 1.54998064e-01,\n",
              "        4.16891247e-01, 2.05003172e-01],\n",
              "       [3.75211447e-01, 5.71853220e-02, 1.33857280e-01, 7.43307471e-02,\n",
              "        1.12483114e-01, 1.01810366e-01],\n",
              "       [4.40670133e-01, 4.37862873e-02, 1.62436992e-01, 5.83377481e-02,\n",
              "        1.29842013e-01, 9.42273438e-02],\n",
              "       [8.51287127e-01, 1.67517304e-01, 4.96552169e-01, 1.16555810e-01,\n",
              "        3.26254129e-01, 1.51535302e-01],\n",
              "       [6.76098466e-02, 2.91374326e-03, 2.32938826e-02, 1.00475848e-02,\n",
              "        1.69102848e-02, 1.24738812e-02],\n",
              "       [4.59881008e-01, 1.19305253e-01, 1.90468818e-01, 1.61082089e-01,\n",
              "        1.86539322e-01, 1.71451986e-01],\n",
              "       [1.42207116e-01, 6.15561008e-03, 4.23477292e-02, 1.92284286e-02,\n",
              "        3.30947638e-02, 2.23487914e-02],\n",
              "       [9.86337781e-01, 6.69576049e-01, 9.48811769e-01, 6.68306351e-02,\n",
              "        5.27207494e-01, 1.29761040e-01],\n",
              "       [8.51287127e-01, 1.67517304e-01, 4.96552169e-01, 1.16555810e-01,\n",
              "        3.26254129e-01, 1.51535302e-01],\n",
              "       [6.77699804e-01, 1.83522344e-01, 3.33791435e-01, 1.52963668e-01,\n",
              "        2.54766047e-01, 1.95012718e-01],\n",
              "       [7.55485892e-01, 4.37762171e-01, 5.72868705e-01, 3.12798053e-01,\n",
              "        5.10339200e-01, 3.58689368e-01],\n",
              "       [4.10364419e-01, 3.71676087e-02, 1.65537119e-01, 5.77573478e-02,\n",
              "        1.48789972e-01, 9.31120515e-02],\n",
              "       [5.52408397e-02, 1.99481845e-03, 1.64567828e-02, 8.33910704e-03,\n",
              "        1.23471618e-02, 8.52710009e-03],\n",
              "       [2.31556594e-02, 9.56982374e-04, 1.28164291e-02, 3.14703584e-03,\n",
              "        6.57799840e-03, 5.48544526e-03],\n",
              "       [3.33510756e-01, 2.46936679e-02, 9.09739733e-02, 4.57541347e-02,\n",
              "        9.71484482e-02, 7.48218000e-02],\n",
              "       [9.05314088e-03, 1.37418509e-04, 3.48672271e-03, 6.49958849e-04,\n",
              "        1.75079703e-03, 1.23730302e-03],\n",
              "       [6.77710772e-03, 1.34915113e-04, 2.98503041e-03, 6.88582659e-04,\n",
              "        1.53601170e-03, 1.01345778e-03],\n",
              "       [1.98408455e-01, 6.22087717e-02, 1.41702801e-01, 7.40622580e-02,\n",
              "        9.14906561e-02, 9.30934846e-02],\n",
              "       [2.17538625e-01, 3.17081213e-02, 9.79851186e-02, 5.35933971e-02,\n",
              "        7.48031735e-02, 6.95103109e-02],\n",
              "       [3.84554267e-03, 7.22792756e-05, 2.10699439e-03, 3.76075506e-04,\n",
              "        8.65697861e-04, 6.18100166e-04],\n",
              "       [4.00257975e-01, 5.69521189e-02, 1.33008689e-01, 9.02338624e-02,\n",
              "        1.28908217e-01, 1.12156272e-01],\n",
              "       [2.13745683e-01, 4.90224361e-03, 4.23205495e-02, 1.63104534e-02,\n",
              "        3.51100862e-02, 2.07727253e-02],\n",
              "       [7.27975368e-03, 2.11268663e-04, 3.67823243e-03, 1.00058317e-03,\n",
              "        1.88490748e-03, 1.34178996e-03],\n",
              "       [6.67366385e-02, 2.68593431e-03, 2.31426060e-02, 8.99010897e-03,\n",
              "        1.68801248e-02, 1.15736723e-02],\n",
              "       [9.95185792e-01, 6.19777441e-01, 9.78257418e-01, 2.92657316e-02,\n",
              "        5.90850890e-01, 7.81268477e-02],\n",
              "       [1.57447129e-01, 1.47871375e-02, 7.06697702e-02, 2.99591720e-02,\n",
              "        5.62807322e-02, 4.60340381e-02],\n",
              "       [6.32472336e-01, 1.28230572e-01, 2.64354467e-01, 1.27678484e-01,\n",
              "        2.05663264e-01, 1.64717495e-01],\n",
              "       [3.75211447e-01, 5.71853220e-02, 1.33857280e-01, 7.43307471e-02,\n",
              "        1.12483114e-01, 1.01810366e-01],\n",
              "       [4.46600020e-02, 4.26620245e-03, 2.61127949e-02, 1.21063888e-02,\n",
              "        1.70957446e-02, 1.37313306e-02],\n",
              "       [3.33510756e-01, 2.46936679e-02, 9.09739733e-02, 4.57541347e-02,\n",
              "        9.71484482e-02, 7.48218000e-02],\n",
              "       [2.89815366e-02, 2.10395455e-03, 1.81795955e-02, 6.11999631e-03,\n",
              "        1.03018582e-02, 8.30987096e-03],\n",
              "       [7.73947954e-01, 2.47705460e-01, 4.50026661e-01, 2.05659091e-01,\n",
              "        4.16271597e-01, 2.46733755e-01],\n",
              "       [6.39588475e-01, 2.74380982e-01, 3.39935660e-01, 1.99505150e-01,\n",
              "        2.85238028e-01, 2.48251647e-01],\n",
              "       [4.39219177e-02, 3.63934040e-03, 2.34543085e-02, 1.08818114e-02,\n",
              "        1.57137811e-02, 1.27647817e-02],\n",
              "       [6.14997029e-01, 1.26226217e-01, 2.55192876e-01, 1.20011717e-01,\n",
              "        2.02334255e-01, 1.65912539e-01],\n",
              "       [3.50195765e-02, 1.09976530e-03, 1.23168528e-02, 4.47371602e-03,\n",
              "        8.45959783e-03, 5.66470623e-03],\n",
              "       [7.14009881e-01, 3.43069553e-01, 4.24303234e-01, 2.36222416e-01,\n",
              "        3.19483280e-01, 2.84656435e-01],\n",
              "       [8.75166059e-03, 2.57790089e-04, 4.23920155e-03, 1.25974417e-03,\n",
              "        2.26122141e-03, 1.57472491e-03],\n",
              "       [4.07016039e-01, 6.73086345e-02, 1.59021556e-01, 7.99669623e-02,\n",
              "        1.26492321e-01, 1.15790486e-01],\n",
              "       [9.98867512e-01, 7.14500785e-01, 9.90425110e-01, 2.59768665e-02,\n",
              "        7.73250520e-01, 8.16978812e-02],\n",
              "       [7.44074106e-01, 4.10352618e-01, 4.82759595e-01, 2.52984196e-01,\n",
              "        3.44427645e-01, 3.00719082e-01],\n",
              "       [6.59662604e-01, 4.46625710e-01, 4.57951277e-01, 3.25009555e-01,\n",
              "        3.84160042e-01, 3.50568295e-01],\n",
              "       [4.40670073e-01, 4.37862873e-02, 1.62436962e-01, 5.83377182e-02,\n",
              "        1.29841894e-01, 9.42273438e-02],\n",
              "       [2.13926107e-01, 3.28770578e-02, 1.10814571e-01, 4.42212522e-02,\n",
              "        8.39890540e-02, 7.43056834e-02],\n",
              "       [2.27007866e-02, 7.91430473e-04, 9.45281982e-03, 3.15600634e-03,\n",
              "        5.86390495e-03, 4.07254696e-03],\n",
              "       [1.08631194e-01, 9.47791338e-03, 5.06022871e-02, 2.18410194e-02,\n",
              "        3.79484892e-02, 3.04480493e-02],\n",
              "       [3.49205136e-02, 7.06166029e-04, 8.57856870e-03, 4.00805473e-03,\n",
              "        6.32968545e-03, 3.79848480e-03]], dtype=float32)"
            ]
          },
          "metadata": {
            "tags": []
          },
          "execution_count": 24
        }
      ]
    },
    {
      "cell_type": "code",
      "metadata": {
        "id": "VsGYO8mhLql2"
      },
      "source": [
        ""
      ],
      "execution_count": null,
      "outputs": []
    },
    {
      "cell_type": "code",
      "metadata": {
        "id": "7LdAYaVVLqj7"
      },
      "source": [
        ""
      ],
      "execution_count": null,
      "outputs": []
    }
  ]
}